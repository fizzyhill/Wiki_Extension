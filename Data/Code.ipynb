{
 "cells": [
  {
   "cell_type": "code",
   "execution_count": 2,
   "metadata": {},
   "outputs": [
    {
     "name": "stdout",
     "output_type": "stream",
     "text": [
      "Requirement already satisfied: pywikibot in /Users/fizzyhill/anaconda3/lib/python3.6/site-packages\n",
      "Requirement already satisfied: requests!=2.18.2,>=2.9 in /Users/fizzyhill/anaconda3/lib/python3.6/site-packages (from pywikibot)\n",
      "Requirement already satisfied: chardet<3.1.0,>=3.0.2 in /Users/fizzyhill/anaconda3/lib/python3.6/site-packages (from requests!=2.18.2,>=2.9->pywikibot)\n",
      "Requirement already satisfied: idna<2.7,>=2.5 in /Users/fizzyhill/anaconda3/lib/python3.6/site-packages (from requests!=2.18.2,>=2.9->pywikibot)\n",
      "Requirement already satisfied: urllib3<1.23,>=1.21.1 in /Users/fizzyhill/anaconda3/lib/python3.6/site-packages (from requests!=2.18.2,>=2.9->pywikibot)\n",
      "Requirement already satisfied: certifi>=2017.4.17 in /Users/fizzyhill/anaconda3/lib/python3.6/site-packages (from requests!=2.18.2,>=2.9->pywikibot)\n"
     ]
    }
   ],
   "source": [
    "%%sh\n",
    "pip install pywikibot"
   ]
  },
  {
   "cell_type": "code",
   "execution_count": 1,
   "metadata": {
    "collapsed": true
   },
   "outputs": [],
   "source": [
    "#complete initial config before importing pywikibot\n",
    "#manual available here: https://www.mediawiki.org/wiki/Manual:Pywikibot/user-config.py\n",
    "import pywikibot"
   ]
  },
  {
   "cell_type": "code",
   "execution_count": 105,
   "metadata": {
    "collapsed": true
   },
   "outputs": [],
   "source": [
    "entry_name = 'Hummus'\n",
    "site = pywikibot.Site('en', 'wikipedia') \n",
    "page = pywikibot.Page(site, entry_name)"
   ]
  },
  {
   "cell_type": "code",
   "execution_count": 106,
   "metadata": {
    "collapsed": true
   },
   "outputs": [],
   "source": [
    "page_profile = {}"
   ]
  },
  {
   "cell_type": "code",
   "execution_count": 107,
   "metadata": {},
   "outputs": [],
   "source": [
    "#documentation for pulling revisions from page\n",
    "#https://doc.wikimedia.org/pywikibot/api_ref/pywikibot.html#module-pywikibot.page\n",
    "#relevant methods: command+f \"revisions\"?\n",
    "created = str(page.oldest_revision['timestamp'])[0:10]\n",
    "creator = page.oldest_revision['user']\n",
    "page_profile['created'] = created\n",
    "page_profile['creator'] = creator"
   ]
  },
  {
   "cell_type": "code",
   "execution_count": 108,
   "metadata": {},
   "outputs": [],
   "source": [
    "last_edit = str(page.latest_revision['timestamp'])[0:10]\n",
    "last_editor = page.latest_revision['user']\n",
    "page_profile['last_edit'] = last_edit\n",
    "page_profile['last_editor'] = last_editor"
   ]
  },
  {
   "cell_type": "code",
   "execution_count": 109,
   "metadata": {},
   "outputs": [],
   "source": [
    "nonbot = page.lastNonBotUser()\n",
    "if last_editor == nonbot:\n",
    "    if_bot = False\n",
    "else:\n",
    "    if_bot = True\n",
    "    \n",
    "page_profile['if_bot'] = if_bot"
   ]
  },
  {
   "cell_type": "code",
   "execution_count": 100,
   "metadata": {},
   "outputs": [],
   "source": [
    "edits = page.revision_count()\n",
    "page_profile['edits'] = edits"
   ]
  },
  {
   "cell_type": "code",
   "execution_count": 110,
   "metadata": {},
   "outputs": [
    {
     "data": {
      "text/plain": [
       "[('Gwen Gale', 242),\n",
       " ('Hertz1888', 116),\n",
       " ('Macrakis', 106),\n",
       " ('Dumarest', 53),\n",
       " ('Peter cohen', 44),\n",
       " ('Avaya1', 41),\n",
       " ('Supreme Deliciousness', 40),\n",
       " ('Zefr', 39),\n",
       " ('Tiamut', 38),\n",
       " ('Malik Shabazz', 36),\n",
       " ('Gilabrand', 32),\n",
       " ('Nsaum75', 29),\n",
       " ('Marokwitz', 27),\n",
       " ('Ani medjool', 24),\n",
       " ('Beyrouthhh', 16),\n",
       " ('TruthFighterX', 15),\n",
       " ('ClueBot', 15),\n",
       " ('Ashley Y', 15),\n",
       " ('SlimVirgin', 13),\n",
       " ('68.193.7.149', 11)]"
      ]
     },
     "execution_count": 110,
     "metadata": {},
     "output_type": "execute_result"
    }
   ],
   "source": [
    "contributors = page.contributors()\n",
    "top20_contributors = contributors.most_common(20)\n",
    "top20_contributors"
   ]
  },
  {
   "cell_type": "code",
   "execution_count": 111,
   "metadata": {},
   "outputs": [],
   "source": [
    "top20_contributors_list = []\n",
    "for each in top20_contributors:\n",
    "    user = each[0]\n",
    "    contributor_dict = {}\n",
    "    contributor_dict['user'] = user\n",
    "    contributor_dict['edits'] = each[1]\n",
    "    contributor_dict['url'] = \"https://en.wikipedia.org/wiki/User:\" + user\n",
    "    top20_contributors_list.append(contributor_dict)"
   ]
  },
  {
   "cell_type": "code",
   "execution_count": 112,
   "metadata": {},
   "outputs": [
    {
     "data": {
      "text/plain": [
       "{'created': '2002-08-23',\n",
       " 'creator': 'Perique des Palottes',\n",
       " 'if_bot': False,\n",
       " 'last_edit': '2018-04-03',\n",
       " 'last_editor': 'Malik Shabazz',\n",
       " 'top20_contributors': [{'edits': 242,\n",
       "   'url': 'https://en.wikipedia.org/wiki/User:Gwen Gale',\n",
       "   'user': 'Gwen Gale'},\n",
       "  {'edits': 116,\n",
       "   'url': 'https://en.wikipedia.org/wiki/User:Hertz1888',\n",
       "   'user': 'Hertz1888'},\n",
       "  {'edits': 106,\n",
       "   'url': 'https://en.wikipedia.org/wiki/User:Macrakis',\n",
       "   'user': 'Macrakis'},\n",
       "  {'edits': 53,\n",
       "   'url': 'https://en.wikipedia.org/wiki/User:Dumarest',\n",
       "   'user': 'Dumarest'},\n",
       "  {'edits': 44,\n",
       "   'url': 'https://en.wikipedia.org/wiki/User:Peter cohen',\n",
       "   'user': 'Peter cohen'},\n",
       "  {'edits': 41,\n",
       "   'url': 'https://en.wikipedia.org/wiki/User:Avaya1',\n",
       "   'user': 'Avaya1'},\n",
       "  {'edits': 40,\n",
       "   'url': 'https://en.wikipedia.org/wiki/User:Supreme Deliciousness',\n",
       "   'user': 'Supreme Deliciousness'},\n",
       "  {'edits': 39,\n",
       "   'url': 'https://en.wikipedia.org/wiki/User:Zefr',\n",
       "   'user': 'Zefr'},\n",
       "  {'edits': 38,\n",
       "   'url': 'https://en.wikipedia.org/wiki/User:Tiamut',\n",
       "   'user': 'Tiamut'},\n",
       "  {'edits': 36,\n",
       "   'url': 'https://en.wikipedia.org/wiki/User:Malik Shabazz',\n",
       "   'user': 'Malik Shabazz'},\n",
       "  {'edits': 32,\n",
       "   'url': 'https://en.wikipedia.org/wiki/User:Gilabrand',\n",
       "   'user': 'Gilabrand'},\n",
       "  {'edits': 29,\n",
       "   'url': 'https://en.wikipedia.org/wiki/User:Nsaum75',\n",
       "   'user': 'Nsaum75'},\n",
       "  {'edits': 27,\n",
       "   'url': 'https://en.wikipedia.org/wiki/User:Marokwitz',\n",
       "   'user': 'Marokwitz'},\n",
       "  {'edits': 24,\n",
       "   'url': 'https://en.wikipedia.org/wiki/User:Ani medjool',\n",
       "   'user': 'Ani medjool'},\n",
       "  {'edits': 16,\n",
       "   'url': 'https://en.wikipedia.org/wiki/User:Beyrouthhh',\n",
       "   'user': 'Beyrouthhh'},\n",
       "  {'edits': 15,\n",
       "   'url': 'https://en.wikipedia.org/wiki/User:TruthFighterX',\n",
       "   'user': 'TruthFighterX'},\n",
       "  {'edits': 15,\n",
       "   'url': 'https://en.wikipedia.org/wiki/User:ClueBot',\n",
       "   'user': 'ClueBot'},\n",
       "  {'edits': 15,\n",
       "   'url': 'https://en.wikipedia.org/wiki/User:Ashley Y',\n",
       "   'user': 'Ashley Y'},\n",
       "  {'edits': 13,\n",
       "   'url': 'https://en.wikipedia.org/wiki/User:SlimVirgin',\n",
       "   'user': 'SlimVirgin'},\n",
       "  {'edits': 11,\n",
       "   'url': 'https://en.wikipedia.org/wiki/User:68.193.7.149',\n",
       "   'user': '68.193.7.149'}]}"
      ]
     },
     "execution_count": 112,
     "metadata": {},
     "output_type": "execute_result"
    }
   ],
   "source": [
    "page_profile['top20_contributors'] = top20_contributors_list\n",
    "page_profile"
   ]
  },
  {
   "cell_type": "code",
   "execution_count": 113,
   "metadata": {},
   "outputs": [],
   "source": [
    "import json\n",
    "with open('hummus.json', 'w') as jsondump:\n",
    "    json.dump(page_profile, jsondump)"
   ]
  },
  {
   "cell_type": "code",
   "execution_count": null,
   "metadata": {
    "collapsed": true
   },
   "outputs": [],
   "source": []
  }
 ],
 "metadata": {
  "kernelspec": {
   "display_name": "Python 3",
   "language": "python",
   "name": "python3"
  },
  "language_info": {
   "codemirror_mode": {
    "name": "ipython",
    "version": 3
   },
   "file_extension": ".py",
   "mimetype": "text/x-python",
   "name": "python",
   "nbconvert_exporter": "python",
   "pygments_lexer": "ipython3",
   "version": "3.6.3"
  }
 },
 "nbformat": 4,
 "nbformat_minor": 2
}
