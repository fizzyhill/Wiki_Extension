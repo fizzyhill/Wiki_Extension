{
 "cells": [
  {
   "cell_type": "code",
   "execution_count": 161,
   "metadata": {
    "collapsed": true
   },
   "outputs": [],
   "source": [
    "user = \"Doc_James\"\n",
    "url = \"https://en.wikipedia.org/w/index.php?title=User:\" + user + \"&action=edit\""
   ]
  },
  {
   "cell_type": "code",
   "execution_count": 162,
   "metadata": {
    "collapsed": true
   },
   "outputs": [],
   "source": [
    "import requests\n",
    "\n",
    "headers = {\n",
    "    'From': '<jf3105@columbia.edu>'\n",
    "    #'User-Agent': '...'\n",
    "}\n",
    "response = requests.get(url, headers=headers)"
   ]
  },
  {
   "cell_type": "code",
   "execution_count": 163,
   "metadata": {
    "collapsed": true
   },
   "outputs": [],
   "source": [
    "from bs4 import BeautifulSoup"
   ]
  },
  {
   "cell_type": "code",
   "execution_count": 164,
   "metadata": {},
   "outputs": [],
   "source": [
    "soup = BeautifulSoup(response.text, 'html.parser')"
   ]
  },
  {
   "cell_type": "code",
   "execution_count": 165,
   "metadata": {},
   "outputs": [],
   "source": [
    "source = soup.find('textarea')"
   ]
  },
  {
   "cell_type": "code",
   "execution_count": 166,
   "metadata": {},
   "outputs": [
    {
     "ename": "IndexError",
     "evalue": "list index out of range",
     "output_type": "error",
     "traceback": [
      "\u001b[0;31m---------------------------------------------------------------------------\u001b[0m",
      "\u001b[0;31mIndexError\u001b[0m                                Traceback (most recent call last)",
      "\u001b[0;32m<ipython-input-166-eeb73168cde2>\u001b[0m in \u001b[0;36m<module>\u001b[0;34m()\u001b[0m\n\u001b[0;32m----> 1\u001b[0;31m \u001b[0msource_text_clean\u001b[0m \u001b[0;34m=\u001b[0m \u001b[0msource\u001b[0m\u001b[0;34m.\u001b[0m\u001b[0mtext\u001b[0m\u001b[0;34m.\u001b[0m\u001b[0msplit\u001b[0m\u001b[0;34m(\u001b[0m\u001b[0;34mu'{{Userboxtop'\u001b[0m\u001b[0;34m)\u001b[0m\u001b[0;34m[\u001b[0m\u001b[0;36m1\u001b[0m\u001b[0;34m]\u001b[0m\u001b[0;34m.\u001b[0m\u001b[0msplit\u001b[0m\u001b[0;34m(\u001b[0m\u001b[0;34mu\"{{Userboxbottom}}\"\u001b[0m\u001b[0;34m)\u001b[0m\u001b[0;34m[\u001b[0m\u001b[0;36m0\u001b[0m\u001b[0;34m]\u001b[0m\u001b[0;34m\u001b[0m\u001b[0m\n\u001b[0m",
      "\u001b[0;31mIndexError\u001b[0m: list index out of range"
     ]
    }
   ],
   "source": [
    "source_text_clean = source.text.split(u'{{Userboxtop')[1].split(u\"{{Userboxbottom}}\")[0]"
   ]
  },
  {
   "cell_type": "code",
   "execution_count": 155,
   "metadata": {},
   "outputs": [
    {
     "name": "stdout",
     "output_type": "stream",
     "text": [
      "('}}\\n'\n",
      " '{{user current age|day=29|month=08|year=1996}} '\n",
      " '{{User:Ginkgo100/Userboxes/User left-handed}} '\n",
      " '{{User:Ginkgo100/Userboxes/User elbow}} {{user en}} {{user de}} {{User '\n",
      " 'Australia}} {{User Australian Capital Territory}}\\n'\n",
      " '{{Template:User Donald Trump}}\\n'\n",
      " '{{Template:User Republican-Elephant}}\\n'\n",
      " '{{Template:Right-wing}}\\n'\n",
      " '{{Template:User Conservative}}\\n'\n",
      " '{{user Austrian}}\\n'\n",
      " '{{User WikiProject Insects}}\\n'\n",
      " '{{User Paleontology}}\\n'\n",
      " '{{User QMAward| Termite}}\\n'\n",
      " '{{User FA|2}}\\n'\n",
      " '{{User Good Articles2|31}}\\n'\n",
      " '{{user German}}\\n'\n",
      " '{{user Hungarian}}\\n'\n",
      " '{{User Roma}}\\n'\n",
      " '{{User Welsh ancestry}}\\n')\n"
     ]
    }
   ],
   "source": [
    "from pprint import pprint\n",
    "pprint(source_text_clean)"
   ]
  },
  {
   "cell_type": "code",
   "execution_count": 159,
   "metadata": {},
   "outputs": [
    {
     "data": {
      "text/plain": [
       "['User:Ginkgo100/Userboxes/User left-handed}} {{User:Ginkgo100/Userboxes/User elbow}} {{user en}} {{user de}} {{User Australia}} {{User Australian Capital Territory']"
      ]
     },
     "execution_count": 159,
     "metadata": {},
     "output_type": "execute_result"
    }
   ],
   "source": [
    "import re\n",
    "\n",
    "userbox = re.findall('(User:.*)}}', source_text_clean, re.IGNORECASE)\n",
    "userbox"
   ]
  },
  {
   "cell_type": "code",
   "execution_count": 160,
   "metadata": {},
   "outputs": [
    {
     "data": {
      "text/plain": [
       "['User:Ginkgo100/Userboxes/User left-handed}} {{User:Ginkgo100/Userboxes/User elbow}} {{user en}} {{user de}} {{User Australia}} {{User Australian Capital Territory',\n",
       " 'Template:User Donald Trump',\n",
       " 'Template:User Republican-Elephant',\n",
       " 'Template:Right-wing',\n",
       " 'Template:User Conservative']"
      ]
     },
     "execution_count": 160,
     "metadata": {},
     "output_type": "execute_result"
    }
   ],
   "source": [
    "for template in re.findall('(Template:.*)}}', source_text_clean, re.IGNORECASE):\n",
    "    userbox.append(template)\n",
    "    \n",
    "userbox"
   ]
  },
  {
   "cell_type": "code",
   "execution_count": 117,
   "metadata": {},
   "outputs": [
    {
     "data": {
      "text/plain": [
       "['User:Ginkgo100/Userboxes/User left-handed}} {{User:Ginkgo100/Userboxes/User elbow}} {{user en}} {{user de}} {{User Australia',\n",
       " 'Template:User Donald Trump',\n",
       " 'Template:User Republican-Elephant',\n",
       " 'Template:Right-wing',\n",
       " 'Template:User Conservative']"
      ]
     },
     "execution_count": 117,
     "metadata": {},
     "output_type": "execute_result"
    }
   ],
   "source": [
    "userbox"
   ]
  },
  {
   "cell_type": "code",
   "execution_count": 145,
   "metadata": {},
   "outputs": [
    {
     "data": {
      "text/plain": [
       "['https://en.wikipedia.org/wiki/User:Jer10 95/privatename',\n",
       " 'https://en.wikipedia.org/wiki/user:hmwith/ubx/male',\n",
       " 'https://en.wikipedia.org/wiki/User:UserBox/User Earthling',\n",
       " 'https://en.wikipedia.org/wiki/User:Ashley Y/Userbox/Agnostic',\n",
       " 'https://en.wikipedia.org/wiki/User:UBX/girlfriendwish',\n",
       " 'https://en.wikipedia.org/wiki/User:JLogan/LesSym',\n",
       " 'https://en.wikipedia.org/wiki/User:UBX/Coke Pepsi',\n",
       " 'https://en.wikipedia.org/wiki/User:Boing! said Zebedee/Userboxes/noadmin',\n",
       " 'https://en.wikipedia.org/wiki/User:UBX/Twinkle4',\n",
       " 'https://en.wikipedia.org/wiki/User:SpeakFree/no barnstar',\n",
       " 'https://en.wikipedia.org/wiki/User:Running/wikipe-tan',\n",
       " 'https://en.wikipedia.org/wiki/User:JohnRussell/wikipedianumedits|19,000',\n",
       " 'https://en.wikipedia.org/wiki/User:Timeastor/personality versatile',\n",
       " 'https://en.wikipedia.org/wiki/User:Scepia/beauty',\n",
       " 'https://en.wikipedia.org/wiki/User:Scepia/HDTV',\n",
       " 'https://en.wikipedia.org/wiki/User:Feureau/UserBox/ubx-5',\n",
       " 'https://en.wikipedia.org/wiki/Template:user ancestry multi',\n",
       " 'https://en.wikipedia.org/wiki/Template:User Immortal',\n",
       " 'https://en.wikipedia.org/wiki/Template:User WikiPeace']"
      ]
     },
     "execution_count": 145,
     "metadata": {},
     "output_type": "execute_result"
    }
   ],
   "source": [
    "userbox_url = []\n",
    "\n",
    "for ubx in userbox:\n",
    "    ubx_url = \"https://en.wikipedia.org/wiki/\" + ubx\n",
    "    userbox_url.append(ubx_url)\n",
    "    \n",
    "userbox_url"
   ]
  },
  {
   "cell_type": "code",
   "execution_count": null,
   "metadata": {
    "collapsed": true
   },
   "outputs": [],
   "source": []
  }
 ],
 "metadata": {
  "kernelspec": {
   "display_name": "Python 3",
   "language": "python",
   "name": "python3"
  },
  "language_info": {
   "codemirror_mode": {
    "name": "ipython",
    "version": 3
   },
   "file_extension": ".py",
   "mimetype": "text/x-python",
   "name": "python",
   "nbconvert_exporter": "python",
   "pygments_lexer": "ipython3",
   "version": "3.6.3"
  }
 },
 "nbformat": 4,
 "nbformat_minor": 2
}
