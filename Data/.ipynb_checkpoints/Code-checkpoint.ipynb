{
 "cells": [
  {
   "cell_type": "code",
   "execution_count": 2,
   "metadata": {},
   "outputs": [
    {
     "name": "stdout",
     "output_type": "stream",
     "text": [
      "Requirement already satisfied: pywikibot in /Users/fizzyhill/anaconda3/lib/python3.6/site-packages\n",
      "Requirement already satisfied: requests!=2.18.2,>=2.9 in /Users/fizzyhill/anaconda3/lib/python3.6/site-packages (from pywikibot)\n",
      "Requirement already satisfied: chardet<3.1.0,>=3.0.2 in /Users/fizzyhill/anaconda3/lib/python3.6/site-packages (from requests!=2.18.2,>=2.9->pywikibot)\n",
      "Requirement already satisfied: idna<2.7,>=2.5 in /Users/fizzyhill/anaconda3/lib/python3.6/site-packages (from requests!=2.18.2,>=2.9->pywikibot)\n",
      "Requirement already satisfied: urllib3<1.23,>=1.21.1 in /Users/fizzyhill/anaconda3/lib/python3.6/site-packages (from requests!=2.18.2,>=2.9->pywikibot)\n",
      "Requirement already satisfied: certifi>=2017.4.17 in /Users/fizzyhill/anaconda3/lib/python3.6/site-packages (from requests!=2.18.2,>=2.9->pywikibot)\n"
     ]
    }
   ],
   "source": [
    "%%sh\n",
    "pip install pywikibot"
   ]
  },
  {
   "cell_type": "code",
   "execution_count": 1,
   "metadata": {
    "collapsed": true
   },
   "outputs": [],
   "source": [
    "#complete initial config before importing pywikibot\n",
    "#manual available here: https://www.mediawiki.org/wiki/Manual:Pywikibot/user-config.py\n",
    "import pywikibot"
   ]
  },
  {
   "cell_type": "code",
   "execution_count": 70,
   "metadata": {
    "collapsed": true
   },
   "outputs": [],
   "source": [
    "entry_name = 'Donald_Trump'\n",
    "site = pywikibot.Site('en', 'wikipedia') \n",
    "page = pywikibot.Page(site, entry_name)"
   ]
  },
  {
   "cell_type": "code",
   "execution_count": 71,
   "metadata": {
    "collapsed": true
   },
   "outputs": [],
   "source": [
    "page_profile = {}"
   ]
  },
  {
   "cell_type": "code",
   "execution_count": 72,
   "metadata": {},
   "outputs": [],
   "source": [
    "#documentation for pulling revisions from page\n",
    "#https://doc.wikimedia.org/pywikibot/api_ref/pywikibot.html#module-pywikibot.page\n",
    "#relevant methods: command+f \"revisions\"?\n",
    "created = str(page.oldest_revision['timestamp'])[0:10]\n",
    "creator = page.oldest_revision['user']\n",
    "page_profile['created'] = created\n",
    "page_profile['creator'] = creator"
   ]
  },
  {
   "cell_type": "code",
   "execution_count": 73,
   "metadata": {},
   "outputs": [],
   "source": [
    "last_edit = str(page.latest_revision['timestamp'])[0:10]\n",
    "last_editor = page.latest_revision['user']\n",
    "page_profile['last_edit'] = last_edit\n",
    "page_profile['last_editor'] = last_editor"
   ]
  },
  {
   "cell_type": "code",
   "execution_count": 74,
   "metadata": {},
   "outputs": [],
   "source": [
    "nonbot = page.lastNonBotUser()\n",
    "if last_editor == nonbot:\n",
    "    if_bot = False\n",
    "else:\n",
    "    if_bot = True\n",
    "    \n",
    "page_profile['if_bot'] = if_bot"
   ]
  },
  {
   "cell_type": "code",
   "execution_count": 75,
   "metadata": {},
   "outputs": [],
   "source": [
    "edits = page.revision_count()\n",
    "page_profile['edits'] = edits"
   ]
  },
  {
   "cell_type": "code",
   "execution_count": 81,
   "metadata": {},
   "outputs": [
    {
     "data": {
      "text/plain": [
       "[('Anythingyouwant', 1869),\n",
       " ('Ihardlythinkso', 871),\n",
       " ('JFG', 776),\n",
       " ('Mandruss', 710),\n",
       " ('Anthony22', 441),\n",
       " ('Galobtter', 401),\n",
       " ('Dervorguilla', 362),\n",
       " ('Vesuvius Dogg', 360),\n",
       " ('MelanieN', 274),\n",
       " ('Thomas Paine1776', 271),\n",
       " ('SocraticOath', 255),\n",
       " ('CFredkin', 227),\n",
       " ('MrX', 214),\n",
       " ('TonyTheTiger', 202),\n",
       " ('Castncoot', 197),\n",
       " ('Somedifferentstuff', 175),\n",
       " ('ThiefOfBagdad', 165),\n",
       " ('Epicgenius', 143),\n",
       " ('SusanLesch', 136),\n",
       " ('ClueBot NG', 131)]"
      ]
     },
     "execution_count": 81,
     "metadata": {},
     "output_type": "execute_result"
    }
   ],
   "source": [
    "contributors = page.contributors()\n",
    "top20_contributors = contributors.most_common(20)\n",
    "top20_contributors"
   ]
  },
  {
   "cell_type": "code",
   "execution_count": 82,
   "metadata": {},
   "outputs": [],
   "source": [
    "top20_contributors_list = []\n",
    "for each in top20_contributors:\n",
    "    user = each[0]\n",
    "    contributor_dict = {}\n",
    "    contributor_dict['user'] = user\n",
    "    contributor_dict['edits'] = each[1]\n",
    "    contributor_dict['url'] = \"https://en.wikipedia.org/wiki/User:\" + user\n",
    "    top20_contributors_list.append(contributor_dict)"
   ]
  },
  {
   "cell_type": "code",
   "execution_count": 78,
   "metadata": {},
   "outputs": [
    {
     "data": {
      "text/plain": [
       "{'created': '2004-01-09',\n",
       " 'creator': 'Mprudhom',\n",
       " 'edits': 25262,\n",
       " 'if_bot': False,\n",
       " 'last_edit': '2018-04-21',\n",
       " 'last_editor': 'Galobtter',\n",
       " 'top20_contributors': [{'edits': 1869,\n",
       "   'url': 'https://en.wikipedia.org/wiki/User:Anythingyouwant',\n",
       "   'user': 'Anythingyouwant'},\n",
       "  {'edits': 871,\n",
       "   'url': 'https://en.wikipedia.org/wiki/User:Ihardlythinkso',\n",
       "   'user': 'Ihardlythinkso'},\n",
       "  {'edits': 776,\n",
       "   'url': 'https://en.wikipedia.org/wiki/User:JFG',\n",
       "   'user': 'JFG'},\n",
       "  {'edits': 710,\n",
       "   'url': 'https://en.wikipedia.org/wiki/User:Mandruss',\n",
       "   'user': 'Mandruss'},\n",
       "  {'edits': 441,\n",
       "   'url': 'https://en.wikipedia.org/wiki/User:Anthony22',\n",
       "   'user': 'Anthony22'},\n",
       "  {'edits': 401,\n",
       "   'url': 'https://en.wikipedia.org/wiki/User:Galobtter',\n",
       "   'user': 'Galobtter'},\n",
       "  {'edits': 362,\n",
       "   'url': 'https://en.wikipedia.org/wiki/User:Dervorguilla',\n",
       "   'user': 'Dervorguilla'},\n",
       "  {'edits': 360,\n",
       "   'url': 'https://en.wikipedia.org/wiki/User:Vesuvius Dogg',\n",
       "   'user': 'Vesuvius Dogg'},\n",
       "  {'edits': 274,\n",
       "   'url': 'https://en.wikipedia.org/wiki/User:MelanieN',\n",
       "   'user': 'MelanieN'},\n",
       "  {'edits': 271,\n",
       "   'url': 'https://en.wikipedia.org/wiki/User:Thomas Paine1776',\n",
       "   'user': 'Thomas Paine1776'},\n",
       "  {'edits': 255,\n",
       "   'url': 'https://en.wikipedia.org/wiki/User:SocraticOath',\n",
       "   'user': 'SocraticOath'},\n",
       "  {'edits': 227,\n",
       "   'url': 'https://en.wikipedia.org/wiki/User:CFredkin',\n",
       "   'user': 'CFredkin'},\n",
       "  {'edits': 214,\n",
       "   'url': 'https://en.wikipedia.org/wiki/User:MrX',\n",
       "   'user': 'MrX'},\n",
       "  {'edits': 202,\n",
       "   'url': 'https://en.wikipedia.org/wiki/User:TonyTheTiger',\n",
       "   'user': 'TonyTheTiger'},\n",
       "  {'edits': 197,\n",
       "   'url': 'https://en.wikipedia.org/wiki/User:Castncoot',\n",
       "   'user': 'Castncoot'},\n",
       "  {'edits': 175,\n",
       "   'url': 'https://en.wikipedia.org/wiki/User:Somedifferentstuff',\n",
       "   'user': 'Somedifferentstuff'},\n",
       "  {'edits': 165,\n",
       "   'url': 'https://en.wikipedia.org/wiki/User:ThiefOfBagdad',\n",
       "   'user': 'ThiefOfBagdad'},\n",
       "  {'edits': 143,\n",
       "   'url': 'https://en.wikipedia.org/wiki/User:Epicgenius',\n",
       "   'user': 'Epicgenius'},\n",
       "  {'edits': 136,\n",
       "   'url': 'https://en.wikipedia.org/wiki/User:SusanLesch',\n",
       "   'user': 'SusanLesch'},\n",
       "  {'edits': 131,\n",
       "   'url': 'https://en.wikipedia.org/wiki/User:ClueBot NG',\n",
       "   'user': 'ClueBot NG'}]}"
      ]
     },
     "execution_count": 78,
     "metadata": {},
     "output_type": "execute_result"
    }
   ],
   "source": [
    "page_profile['top20_contributors'] = top20_contributors_list\n",
    "page_profile"
   ]
  },
  {
   "cell_type": "code",
   "execution_count": 80,
   "metadata": {},
   "outputs": [],
   "source": [
    "import json\n",
    "with open('donald_trump.json', 'w') as jsondump:\n",
    "    json.dump(page_profile, jsondump)"
   ]
  },
  {
   "cell_type": "code",
   "execution_count": null,
   "metadata": {
    "collapsed": true
   },
   "outputs": [],
   "source": []
  }
 ],
 "metadata": {
  "kernelspec": {
   "display_name": "Python 3",
   "language": "python",
   "name": "python3"
  },
  "language_info": {
   "codemirror_mode": {
    "name": "ipython",
    "version": 3
   },
   "file_extension": ".py",
   "mimetype": "text/x-python",
   "name": "python",
   "nbconvert_exporter": "python",
   "pygments_lexer": "ipython3",
   "version": "3.6.3"
  }
 },
 "nbformat": 4,
 "nbformat_minor": 2
}
